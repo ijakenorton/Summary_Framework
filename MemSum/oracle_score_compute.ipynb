{
  "nbformat": 4,
  "nbformat_minor": 0,
  "metadata": {
    "colab": {
      "provenance": [],
      "authorship_tag": "ABX9TyMLaIgt0U4MCB4FybFGQXy6",
      "include_colab_link": true
    },
    "kernelspec": {
      "name": "python3",
      "display_name": "Python 3"
    },
    "language_info": {
      "name": "python"
    },
    "gpuClass": "standard"
  },
  "cells": [
    {
      "cell_type": "markdown",
      "metadata": {
        "id": "view-in-github",
        "colab_type": "text"
      },
      "source": [
        "<a href=\"https://colab.research.google.com/github/nianlonggu/MemSum/blob/main/oracle_score_compute.ipynb\" target=\"_parent\"><img src=\"https://colab.research.google.com/assets/colab-badge.svg\" alt=\"Open In Colab\"/></a>"
      ]
    },
    {
      "cell_type": "code",
      "execution_count": 1,
      "metadata": {
        "colab": {
          "base_uri": "https://localhost:8080/"
        },
        "id": "o0ZhUm14DVMU",
        "outputId": "56ec80be-9112-472b-a000-fca9c66b0ae2"
      },
      "outputs": [
        {
          "output_type": "stream",
          "name": "stdout",
          "text": [
            "Cloning into 'MemSum'...\n",
            "remote: Enumerating objects: 224, done.\u001b[K\n",
            "remote: Counting objects: 100% (126/126), done.\u001b[K\n",
            "remote: Compressing objects: 100% (112/112), done.\u001b[K\n",
            "remote: Total 224 (delta 53), reused 54 (delta 9), pack-reused 98\u001b[K\n",
            "Receiving objects: 100% (224/224), 81.90 MiB | 23.38 MiB/s, done.\n",
            "Resolving deltas: 100% (72/72), done.\n"
          ]
        }
      ],
      "source": [
        "!rm -rf ./*\n",
        "!git clone https://github.com/nianlonggu/MemSum.git"
      ]
    },
    {
      "cell_type": "code",
      "source": [
        "import os\n",
        "os.chdir(\"MemSum\")"
      ],
      "metadata": {
        "id": "h3g3D88DEFI3"
      },
      "execution_count": 2,
      "outputs": []
    },
    {
      "cell_type": "code",
      "source": [
        "!pip install -r requirements.txt -q\n",
        "!pip install gdown -q\n",
        "\n",
        "!gdown 1nNn1h9pz6JdelksMn5xh2zVoek1oh3GF\n",
        "\n",
        "from rouge_score.scoring import BootstrapAggregator\n",
        "from rouge_score import rouge_scorer\n",
        "from tqdm import tqdm\n",
        "from src.data_preprocessing.MemSum.utils import greedy_extract\n",
        "import json\n",
        "\n",
        "\n",
        "scorer = rouge_scorer.RougeScorer(['rouge1', 'rouge2', 'rougeLsum'], use_stemmer = True)\n",
        "aggregator = BootstrapAggregator()\n"
      ],
      "metadata": {
        "id": "Fw1sOX0AEUzV",
        "colab": {
          "base_uri": "https://localhost:8080/"
        },
        "outputId": "43e20d05-391b-4979-ea63-caf08b94a109"
      },
      "execution_count": 3,
      "outputs": [
        {
          "output_type": "stream",
          "name": "stdout",
          "text": [
            "\u001b[?25l\r\u001b[K     |█████▍                          | 10 kB 21.3 MB/s eta 0:00:01\r\u001b[K     |██████████▉                     | 20 kB 6.4 MB/s eta 0:00:01\r\u001b[K     |████████████████▎               | 30 kB 8.8 MB/s eta 0:00:01\r\u001b[K     |█████████████████████▋          | 40 kB 4.3 MB/s eta 0:00:01\r\u001b[K     |███████████████████████████     | 51 kB 4.9 MB/s eta 0:00:01\r\u001b[K     |████████████████████████████████| 60 kB 1.8 MB/s \n",
            "\u001b[?25h  Building wheel for rouge-score (setup.py) ... \u001b[?25l\u001b[?25hdone\n",
            "  Building wheel for pyrouge (setup.py) ... \u001b[?25l\u001b[?25hdone\n",
            "Downloading...\n",
            "From: https://drive.google.com/uc?id=1nNn1h9pz6JdelksMn5xh2zVoek1oh3GF\n",
            "To: /content/MemSum/test_PUBMED.jsonl\n",
            "100% 89.9M/89.9M [00:00<00:00, 109MB/s]\n"
          ]
        }
      ]
    },
    {
      "cell_type": "code",
      "source": [
        "#use bootstrapping\n",
        "#test_PUBMED is from the trunc dataset\n",
        "with open('test_PUBMED.jsonl') as f:\n",
        "    for count, line in enumerate(tqdm(f)):\n",
        "        data = json.loads(line)\n",
        "        oracle_indices = greedy_extract(data['text'],data['summary'])[0][0]\n",
        "        oracle_summary = [data['text'][idx] for idx in oracle_indices]\n",
        "\n",
        "        aggregator.add_scores(scorer.score('\\n'.join(data['summary']),\n",
        "                                           '\\n'.join(oracle_summary)\n",
        "                                         ))\n",
        "res = aggregator.aggregate()"
      ],
      "metadata": {
        "colab": {
          "base_uri": "https://localhost:8080/"
        },
        "id": "8JDaPrIkJD_F",
        "outputId": "9ab18fde-3475-452c-b07b-e58c5b6f8fb0"
      },
      "execution_count": 4,
      "outputs": [
        {
          "output_type": "stream",
          "name": "stderr",
          "text": [
            "5025it [05:46, 14.50it/s]\n"
          ]
        }
      ]
    },
    {
      "cell_type": "code",
      "source": [
        "res"
      ],
      "metadata": {
        "colab": {
          "base_uri": "https://localhost:8080/"
        },
        "id": "OKWpYYUlaDOp",
        "outputId": "6532d75f-8544-4a20-ce7c-58863387a8dd"
      },
      "execution_count": 5,
      "outputs": [
        {
          "output_type": "execute_result",
          "data": {
            "text/plain": [
              "{'rouge1': AggregateScore(low=Score(precision=0.530096094981509, recall=0.449312050302839, fmeasure=0.47395020218708467), mid=Score(precision=0.5337434753244591, recall=0.45280112214401325, fmeasure=0.4767111464972332), high=Score(precision=0.5372552992377749, recall=0.4561009790359482, fmeasure=0.47943544311157615)),\n",
              " 'rouge2': AggregateScore(low=Score(precision=0.22838795986920768, recall=0.18630491408643465, fmeasure=0.1988434122131042), mid=Score(precision=0.2325194699725009, recall=0.18917402891102902, fmeasure=0.2017826917293284), high=Score(precision=0.23676558206224854, recall=0.1921165072575005, fmeasure=0.20494078438495247)),\n",
              " 'rougeLsum': AggregateScore(low=Score(precision=0.4714029899544923, recall=0.39674843527780673, fmeasure=0.4196365612134437), mid=Score(precision=0.4753419599077294, recall=0.3998085164891515, fmeasure=0.42236794085218), high=Score(precision=0.4790487187082761, recall=0.40296195717795, fmeasure=0.42526701118383464))}"
            ]
          },
          "metadata": {}, 
          "execution_count": 5
        }
      ]
    }
  ]
}
